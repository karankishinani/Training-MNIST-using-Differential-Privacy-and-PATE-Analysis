{
  "nbformat": 4,
  "nbformat_minor": 0,
  "metadata": {
    "kernelspec": {
      "name": "python3",
      "display_name": "Python 3"
    },
    "language_info": {
      "codemirror_mode": {
        "name": "ipython",
        "version": 3
      },
      "file_extension": ".py",
      "mimetype": "text/x-python",
      "name": "python",
      "nbconvert_exporter": "python",
      "pygments_lexer": "ipython3",
      "version": "3.7.3"
    },
    "colab": {
      "name": "PATE Analysis.ipynb",
      "version": "0.3.2",
      "provenance": [],
      "collapsed_sections": [],
      "machine_shape": "hm",
      "include_colab_link": true
    },
    "accelerator": "GPU"
  },
  "cells": [
    {
      "cell_type": "markdown",
      "metadata": {
        "id": "view-in-github",
        "colab_type": "text"
      },
      "source": [
        "<a href=\"https://colab.research.google.com/github/karankishinani/Training-MNIST-using-Differential-Privacy-and-PATE-Analysis/blob/master/PATE_Analysis.ipynb\" target=\"_parent\"><img src=\"https://colab.research.google.com/assets/colab-badge.svg\" alt=\"Open In Colab\"/></a>"
      ]
    },
    {
      "cell_type": "markdown",
      "metadata": {
        "id": "aSZbTMgywuIe",
        "colab_type": "text"
      },
      "source": [
        "# Private Aggregation of Teacher Ensembles (PATE)\n",
        "\n",
        "![alt text](https://drive.google.com/uc?id=1fZMBYK1Jc6ULanSRQUI0mc4n5HOS5ZTI)"
      ]
    },
    {
      "cell_type": "markdown",
      "metadata": {
        "id": "SqlTe_EBwuIg",
        "colab_type": "text"
      },
      "source": [
        "## Importing Libraries"
      ]
    },
    {
      "cell_type": "code",
      "metadata": {
        "id": "jzindn6SwuIh",
        "colab_type": "code",
        "outputId": "e3dbf42b-d6e6-43d7-83b9-fe36d81715ac",
        "colab": {
          "base_uri": "https://localhost:8080/",
          "height": 894
        }
      },
      "source": [
        "!pip install syft\n",
        "import torch\n",
        "from torch.utils.data import Subset\n",
        "\n",
        "from torchvision import datasets, transforms\n",
        "\n",
        "import numpy as np\n",
        "\n",
        "from syft.frameworks.torch.differential_privacy import pate"
      ],
      "execution_count": 0,
      "outputs": [
        {
          "output_type": "stream",
          "text": [
            "Requirement already satisfied: syft in /usr/local/lib/python3.6/dist-packages (0.1.21a1)\n",
            "Requirement already satisfied: scikit-learn>=0.21.0 in /usr/local/lib/python3.6/dist-packages (from syft) (0.21.2)\n",
            "Requirement already satisfied: tf-encrypted>=0.5.4 in /usr/local/lib/python3.6/dist-packages (from syft) (0.5.7)\n",
            "Requirement already satisfied: flask-socketio>=3.3.2 in /usr/local/lib/python3.6/dist-packages (from syft) (4.1.0)\n",
            "Requirement already satisfied: msgpack>=0.6.1 in /usr/local/lib/python3.6/dist-packages (from syft) (0.6.1)\n",
            "Requirement already satisfied: Flask>=1.0.2 in /usr/local/lib/python3.6/dist-packages (from syft) (1.1.1)\n",
            "Requirement already satisfied: lz4>=2.1.6 in /usr/local/lib/python3.6/dist-packages (from syft) (2.1.10)\n",
            "Requirement already satisfied: tblib>=1.4.0 in /usr/local/lib/python3.6/dist-packages (from syft) (1.4.0)\n",
            "Requirement already satisfied: torch>=1.1 in /usr/local/lib/python3.6/dist-packages (from syft) (1.1.0)\n",
            "Requirement already satisfied: torchvision>=0.3.0 in /usr/local/lib/python3.6/dist-packages (from syft) (0.3.0)\n",
            "Requirement already satisfied: numpy>=1.14.0 in /usr/local/lib/python3.6/dist-packages (from syft) (1.16.4)\n",
            "Requirement already satisfied: websocket-client>=0.56.0 in /usr/local/lib/python3.6/dist-packages (from syft) (0.56.0)\n",
            "Requirement already satisfied: zstd>=1.4.0.0 in /usr/local/lib/python3.6/dist-packages (from syft) (1.4.1.0)\n",
            "Requirement already satisfied: websockets>=7.0 in /usr/local/lib/python3.6/dist-packages (from syft) (8.0.1)\n",
            "Requirement already satisfied: scipy>=0.17.0 in /usr/local/lib/python3.6/dist-packages (from scikit-learn>=0.21.0->syft) (1.3.0)\n",
            "Requirement already satisfied: joblib>=0.11 in /usr/local/lib/python3.6/dist-packages (from scikit-learn>=0.21.0->syft) (0.13.2)\n",
            "Requirement already satisfied: tensorflow<2,>=1.12.0 in /usr/local/lib/python3.6/dist-packages (from tf-encrypted>=0.5.4->syft) (1.14.0)\n",
            "Requirement already satisfied: pyyaml>=5.1 in /usr/local/lib/python3.6/dist-packages (from tf-encrypted>=0.5.4->syft) (5.1.1)\n",
            "Requirement already satisfied: python-socketio>=2.1.0 in /usr/local/lib/python3.6/dist-packages (from flask-socketio>=3.3.2->syft) (4.2.0)\n",
            "Requirement already satisfied: Werkzeug>=0.15 in /usr/local/lib/python3.6/dist-packages (from Flask>=1.0.2->syft) (0.15.5)\n",
            "Requirement already satisfied: Jinja2>=2.10.1 in /usr/local/lib/python3.6/dist-packages (from Flask>=1.0.2->syft) (2.10.1)\n",
            "Requirement already satisfied: click>=5.1 in /usr/local/lib/python3.6/dist-packages (from Flask>=1.0.2->syft) (7.0)\n",
            "Requirement already satisfied: itsdangerous>=0.24 in /usr/local/lib/python3.6/dist-packages (from Flask>=1.0.2->syft) (1.1.0)\n",
            "Requirement already satisfied: pillow>=4.1.1 in /usr/local/lib/python3.6/dist-packages (from torchvision>=0.3.0->syft) (4.3.0)\n",
            "Requirement already satisfied: six in /usr/local/lib/python3.6/dist-packages (from torchvision>=0.3.0->syft) (1.12.0)\n",
            "Requirement already satisfied: absl-py>=0.7.0 in /usr/local/lib/python3.6/dist-packages (from tensorflow<2,>=1.12.0->tf-encrypted>=0.5.4->syft) (0.7.1)\n",
            "Requirement already satisfied: wheel>=0.26 in /usr/local/lib/python3.6/dist-packages (from tensorflow<2,>=1.12.0->tf-encrypted>=0.5.4->syft) (0.33.4)\n",
            "Requirement already satisfied: keras-preprocessing>=1.0.5 in /usr/local/lib/python3.6/dist-packages (from tensorflow<2,>=1.12.0->tf-encrypted>=0.5.4->syft) (1.1.0)\n",
            "Requirement already satisfied: astor>=0.6.0 in /usr/local/lib/python3.6/dist-packages (from tensorflow<2,>=1.12.0->tf-encrypted>=0.5.4->syft) (0.8.0)\n",
            "Requirement already satisfied: google-pasta>=0.1.6 in /usr/local/lib/python3.6/dist-packages (from tensorflow<2,>=1.12.0->tf-encrypted>=0.5.4->syft) (0.1.7)\n",
            "Requirement already satisfied: tensorboard<1.15.0,>=1.14.0 in /usr/local/lib/python3.6/dist-packages (from tensorflow<2,>=1.12.0->tf-encrypted>=0.5.4->syft) (1.14.0)\n",
            "Requirement already satisfied: wrapt>=1.11.1 in /usr/local/lib/python3.6/dist-packages (from tensorflow<2,>=1.12.0->tf-encrypted>=0.5.4->syft) (1.11.2)\n",
            "Requirement already satisfied: tensorflow-estimator<1.15.0rc0,>=1.14.0rc0 in /usr/local/lib/python3.6/dist-packages (from tensorflow<2,>=1.12.0->tf-encrypted>=0.5.4->syft) (1.14.0)\n",
            "Requirement already satisfied: grpcio>=1.8.6 in /usr/local/lib/python3.6/dist-packages (from tensorflow<2,>=1.12.0->tf-encrypted>=0.5.4->syft) (1.15.0)\n",
            "Requirement already satisfied: keras-applications>=1.0.6 in /usr/local/lib/python3.6/dist-packages (from tensorflow<2,>=1.12.0->tf-encrypted>=0.5.4->syft) (1.0.8)\n",
            "Requirement already satisfied: termcolor>=1.1.0 in /usr/local/lib/python3.6/dist-packages (from tensorflow<2,>=1.12.0->tf-encrypted>=0.5.4->syft) (1.1.0)\n",
            "Requirement already satisfied: gast>=0.2.0 in /usr/local/lib/python3.6/dist-packages (from tensorflow<2,>=1.12.0->tf-encrypted>=0.5.4->syft) (0.2.2)\n",
            "Requirement already satisfied: protobuf>=3.6.1 in /usr/local/lib/python3.6/dist-packages (from tensorflow<2,>=1.12.0->tf-encrypted>=0.5.4->syft) (3.7.1)\n",
            "Requirement already satisfied: python-engineio>=3.8.0 in /usr/local/lib/python3.6/dist-packages (from python-socketio>=2.1.0->flask-socketio>=3.3.2->syft) (3.8.2.post1)\n",
            "Requirement already satisfied: MarkupSafe>=0.23 in /usr/local/lib/python3.6/dist-packages (from Jinja2>=2.10.1->Flask>=1.0.2->syft) (1.1.1)\n",
            "Requirement already satisfied: olefile in /usr/local/lib/python3.6/dist-packages (from pillow>=4.1.1->torchvision>=0.3.0->syft) (0.46)\n",
            "Requirement already satisfied: markdown>=2.6.8 in /usr/local/lib/python3.6/dist-packages (from tensorboard<1.15.0,>=1.14.0->tensorflow<2,>=1.12.0->tf-encrypted>=0.5.4->syft) (3.1.1)\n",
            "Requirement already satisfied: setuptools>=41.0.0 in /usr/local/lib/python3.6/dist-packages (from tensorboard<1.15.0,>=1.14.0->tensorflow<2,>=1.12.0->tf-encrypted>=0.5.4->syft) (41.0.1)\n",
            "Requirement already satisfied: h5py in /usr/local/lib/python3.6/dist-packages (from keras-applications>=1.0.6->tensorflow<2,>=1.12.0->tf-encrypted>=0.5.4->syft) (2.8.0)\n"
          ],
          "name": "stdout"
        },
        {
          "output_type": "stream",
          "text": [
            "WARNING: Logging before flag parsing goes to stderr.\n",
            "W0726 15:58:18.599833 139852029020032 secure_random.py:26] Falling back to insecure randomness since the required custom op could not be found for the installed version of TensorFlow. Fix this by compiling custom ops. Missing file was '/usr/local/lib/python3.6/dist-packages/tf_encrypted/operations/secure_random/secure_random_module_tf_1.14.0.so'\n",
            "W0726 15:58:18.617037 139852029020032 deprecation_wrapper.py:119] From /usr/local/lib/python3.6/dist-packages/tf_encrypted/session.py:26: The name tf.Session is deprecated. Please use tf.compat.v1.Session instead.\n",
            "\n"
          ],
          "name": "stderr"
        }
      ]
    },
    {
      "cell_type": "markdown",
      "metadata": {
        "id": "Aj2LIFgZwuIk",
        "colab_type": "text"
      },
      "source": [
        "## Loading the Dataset"
      ]
    },
    {
      "cell_type": "code",
      "metadata": {
        "id": "rMCchUnGwuIk",
        "colab_type": "code",
        "colab": {}
      },
      "source": [
        "# Define a transform to normalize the data\n",
        "transform = transforms.Compose([transforms.ToTensor(),\n",
        "                              transforms.Normalize((0.5,), (0.5,)),\n",
        "                              ])\n",
        "\n",
        "# Load the dataset\n",
        "train_data = datasets.MNIST(root='./data', train=True, \n",
        "                                download=True, transform=transform)\n",
        "test_data = datasets.MNIST(root='./data', train=False,\n",
        "                                  download=True, transform=transform)"
      ],
      "execution_count": 0,
      "outputs": []
    },
    {
      "cell_type": "markdown",
      "metadata": {
        "id": "xlUnKPZUwuIn",
        "colab_type": "text"
      },
      "source": [
        "## Create Data Loaders for each teacher"
      ]
    },
    {
      "cell_type": "code",
      "metadata": {
        "id": "O0XkfdJnwuIn",
        "colab_type": "code",
        "colab": {}
      },
      "source": [
        "num_teachers = 100 # we're working with 100 teachers\n",
        "num_examples = len(train_data) // num_teachers # the size of each teacher's dataset\n",
        "num_workers = 0 # number of subprocesses for data loading\n",
        "batch_size = 64 # number of samples per batch\n",
        "\n",
        "# Split the data among all teachers\n",
        "teacher_loaders = []\n",
        "\n",
        "for i in range(num_teachers):\n",
        "    indices = list(range(i * num_examples, (i+1) * num_examples))\n",
        "    data = Subset(train_data, indices)\n",
        "    loader = torch.utils.data.DataLoader(data, batch_size=batch_size, num_workers=num_workers)\n",
        "    teacher_loaders.append(loader)"
      ],
      "execution_count": 0,
      "outputs": []
    },
    {
      "cell_type": "markdown",
      "metadata": {
        "id": "7bvzEm1lwuIp",
        "colab_type": "text"
      },
      "source": [
        "## Create Student Training and Test Set"
      ]
    },
    {
      "cell_type": "code",
      "metadata": {
        "id": "oSlGhQ_IwuIq",
        "colab_type": "code",
        "colab": {}
      },
      "source": [
        "student_train_size = int(len(test_data) * 0.05) # 5% of data for training - 500 samples\n",
        "student_test_size = int(len(test_data) * 0.05)  # 5% of data for testing - 500 samples\n",
        "\n",
        "student_train_data = Subset(test_data, list(range(student_train_size)))\n",
        "student_test_data = Subset(test_data, list(range(student_train_size, student_train_size + student_test_size)))\n",
        "\n",
        "student_train_loader = torch.utils.data.DataLoader(student_train_data, batch_size=batch_size, num_workers=num_workers)\n",
        "student_test_loader = torch.utils.data.DataLoader(student_test_data, batch_size=batch_size, num_workers=num_workers)"
      ],
      "execution_count": 0,
      "outputs": []
    },
    {
      "cell_type": "markdown",
      "metadata": {
        "id": "0Q7ByktywuIs",
        "colab_type": "text"
      },
      "source": [
        "## Defining the Neural Network model"
      ]
    },
    {
      "cell_type": "code",
      "metadata": {
        "id": "Ppgdxkv3wuIt",
        "colab_type": "code",
        "colab": {}
      },
      "source": [
        "from torch import nn\n",
        "from torch import optim\n",
        "import torch.nn.functional as F\n",
        "\n",
        "'''\n",
        "class Net(nn.Module):\n",
        "    def __init__(self):\n",
        "        super(Net, self).__init__()\n",
        "        self.fc1 = nn.Linear(784, 128)\n",
        "        self.fc2 = nn.Linear(128, 64)\n",
        "        self.fc3 = nn.Linear(64, 10)\n",
        "\n",
        "    def forward(self, x):\n",
        "        # make sure input tensor is flattened\n",
        "        x = x.view(x.shape[0], -1)\n",
        "        \n",
        "        x = self.fc1(x)\n",
        "        x = F.relu(x)\n",
        "        x = self.fc2(x)\n",
        "        x = F.relu(x)\n",
        "        x = F.log_softmax(x, dim=1)\n",
        "        return x\n",
        "'''\n",
        "      \n",
        "class Net(nn.Module):\n",
        "    def __init__(self):\n",
        "        super(Net, self).__init__()\n",
        "        self.conv1 = nn.Conv2d(1, 10, kernel_size=5)\n",
        "        self.conv2 = nn.Conv2d(10, 20, kernel_size=5)\n",
        "        self.conv2_drop = nn.Dropout2d()\n",
        "        self.fc1 = nn.Linear(320, 50)\n",
        "        self.fc2 = nn.Linear(50, 10)\n",
        "\n",
        "    def forward(self, x):\n",
        "        x = F.relu(F.max_pool2d(self.conv1(x), 2))\n",
        "        x = F.relu(F.max_pool2d(self.conv2_drop(self.conv2(x)), 2))\n",
        "        x = x.view(-1, 320)\n",
        "        x = F.relu(self.fc1(x))\n",
        "        x = F.dropout(x, training=self.training)\n",
        "        x = self.fc2(x)\n",
        "        return F.log_softmax(x)"
      ],
      "execution_count": 0,
      "outputs": []
    },
    {
      "cell_type": "code",
      "metadata": {
        "id": "eNnBWlPJwuIv",
        "colab_type": "code",
        "colab": {}
      },
      "source": [
        "device = torch.device(\"cuda:0\" if torch.cuda.is_available() else \"cpu\")\n",
        "\n",
        "def train(model, trainloader, criterion, optimizer, epochs=10):\n",
        "    \n",
        "    model.to(device)\n",
        "    running_loss = 0\n",
        "    \n",
        "    for e in range(epochs):\n",
        "        \n",
        "        model.train()\n",
        "        \n",
        "        for images, labels in trainloader:\n",
        "            images, labels = images.to(device), labels.to(device)\n",
        "\n",
        "            # 1) erase previous gradients (if they exist)\n",
        "            optimizer.zero_grad()\n",
        "\n",
        "            # 2) make a prediction\n",
        "            pred = model.forward(images)\n",
        "\n",
        "            # 3) calculate how much we missed\n",
        "            loss = criterion(pred, labels)\n",
        "\n",
        "            # 4) figure out which weights caused us to miss\n",
        "            loss.backward()\n",
        "\n",
        "            # 5) change those weights\n",
        "            optimizer.step()\n",
        "\n",
        "            # 6) log our progress\n",
        "            running_loss += loss.item()"
      ],
      "execution_count": 0,
      "outputs": []
    },
    {
      "cell_type": "code",
      "metadata": {
        "id": "AnxUtCpgwuIw",
        "colab_type": "code",
        "colab": {}
      },
      "source": [
        "def predict(model, dataloader):\n",
        "    outputs = torch.zeros(0, dtype=torch.long).to(device)\n",
        "    model.to(device)\n",
        "    model.eval()\n",
        "    for images, labels in dataloader:\n",
        "        images, labels = images.to(device), labels.to(device)\n",
        "        output = model.forward(images)\n",
        "        ps = torch.argmax(torch.exp(output), dim=1)\n",
        "        outputs = torch.cat((outputs, ps))\n",
        "    \n",
        "    return outputs"
      ],
      "execution_count": 0,
      "outputs": []
    },
    {
      "cell_type": "markdown",
      "metadata": {
        "id": "Dx6OZKbpwuIx",
        "colab_type": "text"
      },
      "source": [
        "## Training the Teachers"
      ]
    },
    {
      "cell_type": "code",
      "metadata": {
        "id": "PQYi5myLwuIy",
        "colab_type": "code",
        "outputId": "0ba27586-cb77-4c21-a599-a28453d74979",
        "colab": {
          "base_uri": "https://localhost:8080/",
          "height": 1000
        }
      },
      "source": [
        "teacher_models = []\n",
        "\n",
        "for i in range(num_teachers):\n",
        "    print(\"Training Teacher #\", i+1)\n",
        "    model = Net()\n",
        "    criterion = nn.NLLLoss()\n",
        "    optimizer = optim.Adam(model.parameters(), lr=0.001)\n",
        "    train(model, teacher_loaders[i], criterion, optimizer)\n",
        "    teacher_models.append(model)"
      ],
      "execution_count": 0,
      "outputs": [
        {
          "output_type": "stream",
          "text": [
            "Training Teacher # 1\n"
          ],
          "name": "stdout"
        },
        {
          "output_type": "stream",
          "text": [
            "/usr/local/lib/python3.6/dist-packages/ipykernel_launcher.py:41: UserWarning: Implicit dimension choice for log_softmax has been deprecated. Change the call to include dim=X as an argument.\n"
          ],
          "name": "stderr"
        },
        {
          "output_type": "stream",
          "text": [
            "Training Teacher # 2\n",
            "Training Teacher # 3\n",
            "Training Teacher # 4\n",
            "Training Teacher # 5\n",
            "Training Teacher # 6\n",
            "Training Teacher # 7\n",
            "Training Teacher # 8\n",
            "Training Teacher # 9\n",
            "Training Teacher # 10\n",
            "Training Teacher # 11\n",
            "Training Teacher # 12\n",
            "Training Teacher # 13\n",
            "Training Teacher # 14\n",
            "Training Teacher # 15\n",
            "Training Teacher # 16\n",
            "Training Teacher # 17\n",
            "Training Teacher # 18\n",
            "Training Teacher # 19\n",
            "Training Teacher # 20\n",
            "Training Teacher # 21\n",
            "Training Teacher # 22\n",
            "Training Teacher # 23\n",
            "Training Teacher # 24\n",
            "Training Teacher # 25\n",
            "Training Teacher # 26\n",
            "Training Teacher # 27\n",
            "Training Teacher # 28\n",
            "Training Teacher # 29\n",
            "Training Teacher # 30\n",
            "Training Teacher # 31\n",
            "Training Teacher # 32\n",
            "Training Teacher # 33\n",
            "Training Teacher # 34\n",
            "Training Teacher # 35\n",
            "Training Teacher # 36\n",
            "Training Teacher # 37\n",
            "Training Teacher # 38\n",
            "Training Teacher # 39\n",
            "Training Teacher # 40\n",
            "Training Teacher # 41\n",
            "Training Teacher # 42\n",
            "Training Teacher # 43\n",
            "Training Teacher # 44\n",
            "Training Teacher # 45\n",
            "Training Teacher # 46\n",
            "Training Teacher # 47\n",
            "Training Teacher # 48\n",
            "Training Teacher # 49\n",
            "Training Teacher # 50\n",
            "Training Teacher # 51\n",
            "Training Teacher # 52\n",
            "Training Teacher # 53\n",
            "Training Teacher # 54\n",
            "Training Teacher # 55\n",
            "Training Teacher # 56\n",
            "Training Teacher # 57\n",
            "Training Teacher # 58\n",
            "Training Teacher # 59\n",
            "Training Teacher # 60\n",
            "Training Teacher # 61\n",
            "Training Teacher # 62\n",
            "Training Teacher # 63\n",
            "Training Teacher # 64\n",
            "Training Teacher # 65\n",
            "Training Teacher # 66\n",
            "Training Teacher # 67\n",
            "Training Teacher # 68\n",
            "Training Teacher # 69\n",
            "Training Teacher # 70\n",
            "Training Teacher # 71\n",
            "Training Teacher # 72\n",
            "Training Teacher # 73\n",
            "Training Teacher # 74\n",
            "Training Teacher # 75\n",
            "Training Teacher # 76\n",
            "Training Teacher # 77\n",
            "Training Teacher # 78\n",
            "Training Teacher # 79\n",
            "Training Teacher # 80\n",
            "Training Teacher # 81\n",
            "Training Teacher # 82\n",
            "Training Teacher # 83\n",
            "Training Teacher # 84\n",
            "Training Teacher # 85\n",
            "Training Teacher # 86\n",
            "Training Teacher # 87\n",
            "Training Teacher # 88\n",
            "Training Teacher # 89\n",
            "Training Teacher # 90\n",
            "Training Teacher # 91\n",
            "Training Teacher # 92\n",
            "Training Teacher # 93\n",
            "Training Teacher # 94\n",
            "Training Teacher # 95\n",
            "Training Teacher # 96\n",
            "Training Teacher # 97\n",
            "Training Teacher # 98\n",
            "Training Teacher # 99\n",
            "Training Teacher # 100\n"
          ],
          "name": "stdout"
        }
      ]
    },
    {
      "cell_type": "markdown",
      "metadata": {
        "id": "FRXxcJqhwuI1",
        "colab_type": "text"
      },
      "source": [
        "## Aggregate Teacher\n",
        "Make a prediction for each of the teacher's models, add noise, and return the majority vote"
      ]
    },
    {
      "cell_type": "code",
      "metadata": {
        "id": "nYaMXFvdwuI2",
        "colab_type": "code",
        "colab": {}
      },
      "source": [
        "# Define epsilon\n",
        "epsilon = 0.2"
      ],
      "execution_count": 0,
      "outputs": []
    },
    {
      "cell_type": "code",
      "metadata": {
        "id": "PpGLV4gWwuI3",
        "colab_type": "code",
        "outputId": "693851f4-3f19-484e-f609-2b7be67a3f59",
        "colab": {
          "base_uri": "https://localhost:8080/",
          "height": 94
        }
      },
      "source": [
        "preds = torch.torch.zeros((len(teacher_models), student_train_size), dtype=torch.long)\n",
        "\n",
        "for i, model in enumerate(teacher_models):\n",
        "    results = predict(model, student_train_loader)\n",
        "    preds[i] = results\n",
        "\n",
        "labels = np.array([]).astype(int)\n",
        "for image_preds in np.transpose(preds):\n",
        "    label_counts = np.bincount(image_preds, minlength=10)\n",
        "    beta = 1 / epsilon\n",
        "\n",
        "    for i in range(len(label_counts)):\n",
        "        label_counts[i] += np.random.laplace(0, beta, 1)\n",
        "\n",
        "    new_label = np.argmax(label_counts)\n",
        "    labels = np.append(labels, new_label)"
      ],
      "execution_count": 0,
      "outputs": [
        {
          "output_type": "stream",
          "text": [
            "/usr/local/lib/python3.6/dist-packages/ipykernel_launcher.py:41: UserWarning: Implicit dimension choice for log_softmax has been deprecated. Change the call to include dim=X as an argument.\n"
          ],
          "name": "stderr"
        }
      ]
    },
    {
      "cell_type": "code",
      "metadata": {
        "id": "S3_EzAtbwuI4",
        "colab_type": "code",
        "outputId": "ace545b9-b350-4afa-a4f5-2b89b49902ca",
        "colab": {
          "base_uri": "https://localhost:8080/",
          "height": 935
        }
      },
      "source": [
        "PATE_labels = labels # Aggregate Teacher Labels   \n",
        "true_labels = test_data.targets[:student_train_size] # True Labels\n",
        "PATE_preds = preds # Labels Obtained by Teachers\n",
        "\n",
        "print(preds.shape)\n",
        "print(labels.shape)\n",
        "print(\"All Teacher Predicted Labels\\n\", preds)\n",
        "print(\"Aggregate Teacher Labels\\n\", torch.tensor(PATE_labels))\n",
        "print(\"True Labels\\n\", true_labels)"
      ],
      "execution_count": 0,
      "outputs": [
        {
          "output_type": "stream",
          "text": [
            "torch.Size([100, 500])\n",
            "(500,)\n",
            "All Teacher Predicted Labels\n",
            " tensor([[7, 2, 1,  ..., 9, 0, 6],\n",
            "        [7, 2, 1,  ..., 9, 0, 6],\n",
            "        [7, 6, 1,  ..., 9, 0, 6],\n",
            "        ...,\n",
            "        [7, 2, 1,  ..., 9, 0, 6],\n",
            "        [7, 6, 1,  ..., 9, 0, 1],\n",
            "        [7, 2, 1,  ..., 4, 8, 6]])\n",
            "Aggregate Teacher Labels\n",
            " tensor([7, 2, 1, 0, 4, 1, 4, 9, 6, 9, 0, 6, 9, 0, 1, 5, 9, 7, 3, 4, 9, 6, 6, 5,\n",
            "        4, 0, 7, 4, 0, 1, 3, 1, 3, 6, 7, 2, 7, 1, 2, 1, 1, 7, 4, 2, 3, 5, 3, 2,\n",
            "        4, 4, 6, 3, 5, 5, 6, 0, 4, 1, 9, 5, 7, 8, 4, 3, 7, 4, 2, 4, 3, 0, 7, 0,\n",
            "        2, 7, 1, 7, 3, 7, 9, 7, 7, 6, 2, 7, 8, 4, 7, 3, 6, 1, 3, 6, 4, 3, 1, 4,\n",
            "        1, 1, 6, 9, 6, 0, 5, 4, 9, 9, 2, 1, 9, 4, 8, 1, 3, 9, 7, 4, 4, 4, 9, 2,\n",
            "        5, 6, 7, 6, 9, 9, 0, 5, 8, 5, 6, 6, 5, 7, 8, 1, 0, 1, 6, 4, 6, 7, 3, 1,\n",
            "        7, 1, 8, 2, 0, 4, 9, 9, 5, 5, 1, 5, 6, 0, 3, 4, 4, 6, 5, 4, 6, 5, 4, 4,\n",
            "        1, 4, 4, 7, 2, 3, 2, 1, 1, 8, 1, 8, 1, 8, 5, 0, 3, 4, 2, 5, 0, 1, 1, 1,\n",
            "        0, 9, 0, 8, 1, 6, 4, 2, 3, 6, 1, 1, 1, 3, 9, 5, 2, 9, 4, 5, 9, 3, 9, 0,\n",
            "        3, 5, 5, 5, 7, 2, 2, 7, 1, 2, 8, 4, 1, 7, 3, 3, 8, 7, 7, 9, 2, 2, 4, 1,\n",
            "        5, 4, 8, 9, 2, 5, 0, 6, 4, 2, 9, 1, 9, 5, 7, 7, 2, 1, 2, 0, 8, 1, 7, 7,\n",
            "        9, 1, 8, 1, 3, 0, 3, 0, 1, 9, 9, 4, 1, 8, 2, 1, 2, 9, 7, 5, 9, 2, 6, 4,\n",
            "        1, 5, 4, 2, 9, 2, 0, 4, 0, 0, 2, 8, 6, 7, 1, 2, 9, 0, 2, 7, 4, 3, 3, 0,\n",
            "        0, 5, 1, 9, 6, 8, 3, 5, 1, 7, 9, 3, 0, 4, 6, 0, 7, 1, 1, 2, 1, 5, 3, 3,\n",
            "        9, 7, 5, 6, 3, 4, 1, 3, 8, 1, 0, 5, 1, 7, 1, 5, 0, 6, 1, 8, 5, 1, 7, 9,\n",
            "        4, 6, 7, 2, 5, 0, 6, 5, 6, 3, 7, 2, 0, 8, 8, 5, 9, 1, 1, 4, 0, 7, 3, 7,\n",
            "        6, 1, 6, 2, 1, 9, 2, 8, 6, 1, 9, 5, 2, 5, 4, 4, 2, 8, 3, 9, 2, 4, 5, 0,\n",
            "        3, 1, 7, 7, 3, 7, 9, 7, 1, 9, 2, 1, 4, 2, 9, 2, 0, 4, 9, 1, 4, 8, 1, 8,\n",
            "        4, 5, 9, 7, 8, 3, 7, 6, 0, 0, 3, 0, 2, 0, 6, 4, 8, 5, 3, 3, 2, 3, 9, 1,\n",
            "        2, 5, 8, 0, 5, 6, 6, 6, 7, 8, 8, 2, 2, 5, 8, 9, 6, 1, 8, 4, 1, 2, 6, 3,\n",
            "        1, 9, 7, 5, 4, 0, 9, 9, 9, 1, 0, 5, 2, 3, 7, 6, 9, 9, 0, 6])\n",
            "True Labels\n",
            " tensor([7, 2, 1, 0, 4, 1, 4, 9, 5, 9, 0, 6, 9, 0, 1, 5, 9, 7, 3, 4, 9, 6, 6, 5,\n",
            "        4, 0, 7, 4, 0, 1, 3, 1, 3, 4, 7, 2, 7, 1, 2, 1, 1, 7, 4, 2, 3, 5, 1, 2,\n",
            "        4, 4, 6, 3, 5, 5, 6, 0, 4, 1, 9, 5, 7, 8, 9, 3, 7, 4, 6, 4, 3, 0, 7, 0,\n",
            "        2, 9, 1, 7, 3, 2, 9, 7, 7, 6, 2, 7, 8, 4, 7, 3, 6, 1, 3, 6, 9, 3, 1, 4,\n",
            "        1, 7, 6, 9, 6, 0, 5, 4, 9, 9, 2, 1, 9, 4, 8, 7, 3, 9, 7, 4, 4, 4, 9, 2,\n",
            "        5, 4, 7, 6, 7, 9, 0, 5, 8, 5, 6, 6, 5, 7, 8, 1, 0, 1, 6, 4, 6, 7, 3, 1,\n",
            "        7, 1, 8, 2, 0, 2, 9, 9, 5, 5, 1, 5, 6, 0, 3, 4, 4, 6, 5, 4, 6, 5, 4, 5,\n",
            "        1, 4, 4, 7, 2, 3, 2, 7, 1, 8, 1, 8, 1, 8, 5, 0, 8, 9, 2, 5, 0, 1, 1, 1,\n",
            "        0, 9, 0, 3, 1, 6, 4, 2, 3, 6, 1, 1, 1, 3, 9, 5, 2, 9, 4, 5, 9, 3, 9, 0,\n",
            "        3, 6, 5, 5, 7, 2, 2, 7, 1, 2, 8, 4, 1, 7, 3, 3, 8, 8, 7, 9, 2, 2, 4, 1,\n",
            "        5, 9, 8, 7, 2, 3, 0, 4, 4, 2, 4, 1, 9, 5, 7, 7, 2, 8, 2, 6, 8, 5, 7, 7,\n",
            "        9, 1, 8, 1, 8, 0, 3, 0, 1, 9, 9, 4, 1, 8, 2, 1, 2, 9, 7, 5, 9, 2, 6, 4,\n",
            "        1, 5, 8, 2, 9, 2, 0, 4, 0, 0, 2, 8, 4, 7, 1, 2, 4, 0, 2, 7, 4, 3, 3, 0,\n",
            "        0, 3, 1, 9, 6, 5, 2, 5, 9, 2, 9, 3, 0, 4, 2, 0, 7, 1, 1, 2, 1, 5, 3, 3,\n",
            "        9, 7, 8, 6, 5, 6, 1, 3, 8, 1, 0, 5, 1, 3, 1, 5, 5, 6, 1, 8, 5, 1, 7, 9,\n",
            "        4, 6, 2, 2, 5, 0, 6, 5, 6, 3, 7, 2, 0, 8, 8, 5, 4, 1, 1, 4, 0, 3, 3, 7,\n",
            "        6, 1, 6, 2, 1, 9, 2, 8, 6, 1, 9, 5, 2, 5, 4, 4, 2, 8, 3, 8, 2, 4, 5, 0,\n",
            "        3, 1, 7, 7, 5, 7, 9, 7, 1, 9, 2, 1, 4, 2, 9, 2, 0, 4, 9, 1, 4, 8, 1, 8,\n",
            "        4, 5, 9, 8, 8, 3, 7, 6, 0, 0, 3, 0, 2, 6, 6, 4, 9, 3, 3, 3, 2, 3, 9, 1,\n",
            "        2, 6, 8, 0, 5, 6, 6, 6, 3, 8, 8, 2, 7, 5, 8, 9, 6, 1, 8, 4, 1, 2, 5, 9,\n",
            "        1, 9, 7, 5, 4, 0, 8, 9, 9, 1, 0, 5, 2, 3, 7, 8, 9, 4, 0, 6])\n"
          ],
          "name": "stdout"
        }
      ]
    },
    {
      "cell_type": "markdown",
      "metadata": {
        "id": "Z3-LqeQ_wuI6",
        "colab_type": "text"
      },
      "source": [
        "## PATE Analysis"
      ]
    },
    {
      "cell_type": "code",
      "metadata": {
        "id": "PiQ9wpZqwuI6",
        "colab_type": "code",
        "colab": {
          "base_uri": "https://localhost:8080/",
          "height": 51
        },
        "outputId": "d8d7da54-da9d-4eb4-d86a-06ae9b32a397"
      },
      "source": [
        "data_dep_eps, data_ind_eps = pate.perform_analysis(teacher_preds=PATE_preds, indices=PATE_labels, noise_eps=epsilon, delta=1e-5, moments=10)\n",
        "print(\"Data Independent Epsilon:\", data_ind_eps)\n",
        "print(\"Data Dependent Epsilon:\", data_dep_eps)"
      ],
      "execution_count": 12,
      "outputs": [
        {
          "output_type": "stream",
          "text": [
            "Data Independent Epsilon: 91.51292546497024\n",
            "Data Dependent Epsilon: 31.050127660182\n"
          ],
          "name": "stdout"
        }
      ]
    },
    {
      "cell_type": "markdown",
      "metadata": {
        "id": "8WPI1KvtwuI7",
        "colab_type": "text"
      },
      "source": [
        "## Training the Student"
      ]
    },
    {
      "cell_type": "code",
      "metadata": {
        "id": "hxnczOLnB951",
        "colab_type": "code",
        "colab": {}
      },
      "source": [
        "data = torch.FloatTensor(test_data.data.clone().detach().numpy()[:student_train_size])\n",
        "targets = torch.tensor(labels)   \n",
        "\n",
        "test_data.targets[:student_train_size] = targets\n",
        "\n",
        "\n",
        "student_train_data = Subset(test_data, list(range(student_train_size)))\n",
        "student_train_loader = torch.utils.data.DataLoader(student_train_data, batch_size=batch_size, num_workers=num_workers)"
      ],
      "execution_count": 0,
      "outputs": []
    },
    {
      "cell_type": "code",
      "metadata": {
        "id": "duQMhBzqfPLJ",
        "colab_type": "code",
        "colab": {
          "base_uri": "https://localhost:8080/",
          "height": 374
        },
        "outputId": "fe8a6191-751e-4623-e259-6f0bc96b874f"
      },
      "source": [
        "print(targets)"
      ],
      "execution_count": 14,
      "outputs": [
        {
          "output_type": "stream",
          "text": [
            "tensor([7, 2, 1, 0, 4, 1, 4, 9, 6, 9, 0, 6, 9, 0, 1, 5, 9, 7, 3, 4, 9, 6, 6, 5,\n",
            "        4, 0, 7, 4, 0, 1, 3, 1, 3, 6, 7, 2, 7, 1, 2, 1, 1, 7, 4, 2, 3, 5, 3, 2,\n",
            "        4, 4, 6, 3, 5, 5, 6, 0, 4, 1, 9, 5, 7, 8, 4, 3, 7, 4, 2, 4, 3, 0, 7, 0,\n",
            "        2, 7, 1, 7, 3, 7, 9, 7, 7, 6, 2, 7, 8, 4, 7, 3, 6, 1, 3, 6, 4, 3, 1, 4,\n",
            "        1, 1, 6, 9, 6, 0, 5, 4, 9, 9, 2, 1, 9, 4, 8, 1, 3, 9, 7, 4, 4, 4, 9, 2,\n",
            "        5, 6, 7, 6, 9, 9, 0, 5, 8, 5, 6, 6, 5, 7, 8, 1, 0, 1, 6, 4, 6, 7, 3, 1,\n",
            "        7, 1, 8, 2, 0, 4, 9, 9, 5, 5, 1, 5, 6, 0, 3, 4, 4, 6, 5, 4, 6, 5, 4, 4,\n",
            "        1, 4, 4, 7, 2, 3, 2, 1, 1, 8, 1, 8, 1, 8, 5, 0, 3, 4, 2, 5, 0, 1, 1, 1,\n",
            "        0, 9, 0, 8, 1, 6, 4, 2, 3, 6, 1, 1, 1, 3, 9, 5, 2, 9, 4, 5, 9, 3, 9, 0,\n",
            "        3, 5, 5, 5, 7, 2, 2, 7, 1, 2, 8, 4, 1, 7, 3, 3, 8, 7, 7, 9, 2, 2, 4, 1,\n",
            "        5, 4, 8, 9, 2, 5, 0, 6, 4, 2, 9, 1, 9, 5, 7, 7, 2, 1, 2, 0, 8, 1, 7, 7,\n",
            "        9, 1, 8, 1, 3, 0, 3, 0, 1, 9, 9, 4, 1, 8, 2, 1, 2, 9, 7, 5, 9, 2, 6, 4,\n",
            "        1, 5, 4, 2, 9, 2, 0, 4, 0, 0, 2, 8, 6, 7, 1, 2, 9, 0, 2, 7, 4, 3, 3, 0,\n",
            "        0, 5, 1, 9, 6, 8, 3, 5, 1, 7, 9, 3, 0, 4, 6, 0, 7, 1, 1, 2, 1, 5, 3, 3,\n",
            "        9, 7, 5, 6, 3, 4, 1, 3, 8, 1, 0, 5, 1, 7, 1, 5, 0, 6, 1, 8, 5, 1, 7, 9,\n",
            "        4, 6, 7, 2, 5, 0, 6, 5, 6, 3, 7, 2, 0, 8, 8, 5, 9, 1, 1, 4, 0, 7, 3, 7,\n",
            "        6, 1, 6, 2, 1, 9, 2, 8, 6, 1, 9, 5, 2, 5, 4, 4, 2, 8, 3, 9, 2, 4, 5, 0,\n",
            "        3, 1, 7, 7, 3, 7, 9, 7, 1, 9, 2, 1, 4, 2, 9, 2, 0, 4, 9, 1, 4, 8, 1, 8,\n",
            "        4, 5, 9, 7, 8, 3, 7, 6, 0, 0, 3, 0, 2, 0, 6, 4, 8, 5, 3, 3, 2, 3, 9, 1,\n",
            "        2, 5, 8, 0, 5, 6, 6, 6, 7, 8, 8, 2, 2, 5, 8, 9, 6, 1, 8, 4, 1, 2, 6, 3,\n",
            "        1, 9, 7, 5, 4, 0, 9, 9, 9, 1, 0, 5, 2, 3, 7, 6, 9, 9, 0, 6])\n"
          ],
          "name": "stdout"
        }
      ]
    },
    {
      "cell_type": "code",
      "metadata": {
        "id": "79MSN91bwuI7",
        "colab_type": "code",
        "colab": {
          "base_uri": "https://localhost:8080/",
          "height": 205
        },
        "outputId": "f827b5e6-8b69-4ff7-d884-14fdfe6ac9f3"
      },
      "source": [
        "def train_student(model, train_loader, test_loader, criterion, optimizer, epochs=10):\n",
        "    \n",
        "    model.to(device)\n",
        "    running_loss = 0\n",
        "    steps = 0\n",
        "    \n",
        "    for e in range(epochs):\n",
        "        \n",
        "        model.train()\n",
        "        \n",
        "        for images, labels in train_loader:\n",
        "            images, labels = images.to(device), labels.to(device)\n",
        "            steps += 1\n",
        "            \n",
        "            # 1) erase previous gradients (if they exist)\n",
        "            optimizer.zero_grad()\n",
        "\n",
        "            # 2) make a prediction\n",
        "            pred = model.forward(images)\n",
        "\n",
        "            # 3) calculate how much we missed\n",
        "            loss = criterion(pred, labels)\n",
        "\n",
        "            # 4) figure out which weights caused us to miss\n",
        "            loss.backward()\n",
        "\n",
        "            # 5) change those weights\n",
        "            optimizer.step()\n",
        "\n",
        "            # 6) log our progress\n",
        "            running_loss += loss.item()\n",
        "            \n",
        "            if steps % 25 == 0:\n",
        "                test_loss = 0\n",
        "                accuracy = 0\n",
        "                model.eval()\n",
        "                with torch.no_grad():\n",
        "                    for images, labels in test_loader:\n",
        "                        images, labels = images.to(device), labels.to(device)\n",
        "                        log_ps = model(images)\n",
        "                        test_loss += criterion(log_ps, labels).item()\n",
        "\n",
        "                        # Accuracy\n",
        "                        ps = torch.exp(log_ps)\n",
        "                        top_p, top_class = ps.topk(1, dim=1)\n",
        "                        equals = top_class == labels.view(*top_class.shape)\n",
        "                        accuracy += torch.mean(equals.type(torch.FloatTensor))\n",
        "                model.train()\n",
        "                print(\"Epoch: {}/{}.. \".format(e+1, epochs),\n",
        "                      \"Training Loss: {:.3f}.. \".format(running_loss/len(train_loader)),\n",
        "                      \"Test Loss: {:.3f}.. \".format(test_loss/len(test_loader)),\n",
        "                      \"Test Accuracy: {:.3f}\".format(accuracy/len(test_loader)))\n",
        "                running_loss = 0\n",
        "             \n",
        "            \n",
        "\n",
        "\n",
        "student_model = Net()\n",
        "criterion = nn.NLLLoss()\n",
        "optimizer = optim.Adam(student_model.parameters(), lr=0.002)\n",
        "epochs = 25\n",
        "train_student(student_model, student_train_loader, student_test_loader, criterion, optimizer, epochs)"
      ],
      "execution_count": 25,
      "outputs": [
        {
          "output_type": "stream",
          "text": [
            "/usr/local/lib/python3.6/dist-packages/ipykernel_launcher.py:41: UserWarning: Implicit dimension choice for log_softmax has been deprecated. Change the call to include dim=X as an argument.\n"
          ],
          "name": "stderr"
        },
        {
          "output_type": "stream",
          "text": [
            "Epoch: 4/25..  Training Loss: 6.532..  Test Loss: 1.460..  Test Accuracy: 0.604\n",
            "Epoch: 7/25..  Training Loss: 3.741..  Test Loss: 0.649..  Test Accuracy: 0.774\n",
            "Epoch: 10/25..  Training Loss: 2.253..  Test Loss: 0.514..  Test Accuracy: 0.835\n",
            "Epoch: 13/25..  Training Loss: 1.649..  Test Loss: 0.492..  Test Accuracy: 0.847\n",
            "Epoch: 16/25..  Training Loss: 1.432..  Test Loss: 0.505..  Test Accuracy: 0.851\n",
            "Epoch: 19/25..  Training Loss: 1.198..  Test Loss: 0.534..  Test Accuracy: 0.845\n",
            "Epoch: 22/25..  Training Loss: 1.029..  Test Loss: 0.554..  Test Accuracy: 0.839\n",
            "Epoch: 25/25..  Training Loss: 0.925..  Test Loss: 0.556..  Test Accuracy: 0.852\n"
          ],
          "name": "stdout"
        }
      ]
    },
    {
      "cell_type": "markdown",
      "metadata": {
        "id": "OanJG8puwuI8",
        "colab_type": "text"
      },
      "source": [
        "## Testing the Student model"
      ]
    },
    {
      "cell_type": "code",
      "metadata": {
        "id": "lx-PDz6SwuI9",
        "colab_type": "code",
        "colab": {
          "base_uri": "https://localhost:8080/",
          "height": 91
        },
        "outputId": "2e0527fd-eedb-4ca6-be5b-bb7387f5c67e"
      },
      "source": [
        "test_loss = 0\n",
        "accuracy = 0\n",
        "student_model.eval()\n",
        "with torch.no_grad():\n",
        "    for images, labels in student_test_loader:\n",
        "        images, labels = images.to(device), labels.to(device)\n",
        "        log_ps = student_model(images)\n",
        "        test_loss += criterion(log_ps, labels).item()\n",
        "\n",
        "        # Accuracy\n",
        "        ps = torch.exp(log_ps)\n",
        "        top_p, top_class = ps.topk(1, dim=1)\n",
        "        equals = top_class == labels.view(*top_class.shape)\n",
        "        accuracy += torch.mean(equals.type(torch.FloatTensor))\n",
        "student_model.train()\n",
        "print(\"Test Loss: {:.3f}.. \".format(test_loss/len(student_test_loader)),\n",
        "      \"Test Accuracy: {:.3f}\".format(accuracy/len(student_test_loader)))\n",
        "running_loss = 0\n"
      ],
      "execution_count": 26,
      "outputs": [
        {
          "output_type": "stream",
          "text": [
            "Test Loss: 0.556..  Test Accuracy: 0.852\n"
          ],
          "name": "stdout"
        },
        {
          "output_type": "stream",
          "text": [
            "/usr/local/lib/python3.6/dist-packages/ipykernel_launcher.py:41: UserWarning: Implicit dimension choice for log_softmax has been deprecated. Change the call to include dim=X as an argument.\n"
          ],
          "name": "stderr"
        }
      ]
    },
    {
      "cell_type": "code",
      "metadata": {
        "id": "9RaqmtOHQfll",
        "colab_type": "code",
        "colab": {}
      },
      "source": [
        ""
      ],
      "execution_count": 0,
      "outputs": []
    }
  ]
}